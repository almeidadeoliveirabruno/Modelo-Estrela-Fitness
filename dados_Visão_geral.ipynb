{
 "cells": [
  {
   "cell_type": "markdown",
   "metadata": {},
   "source": [
    "# Entendendo os dados"
   ]
  },
  {
   "cell_type": "code",
   "execution_count": 1,
   "metadata": {},
   "outputs": [],
   "source": [
    "import pandas as pd"
   ]
  },
  {
   "cell_type": "code",
   "execution_count": 2,
   "metadata": {},
   "outputs": [],
   "source": [
    "dataset = pd.read_csv('fitness_tracker_dataset.csv')\n",
    "#https://www.kaggle.com/datasets/arnavsmayan/fitness-tracker-dataset"
   ]
  },
  {
   "cell_type": "code",
   "execution_count": 3,
   "metadata": {},
   "outputs": [
    {
     "data": {
      "text/html": [
       "<div>\n",
       "<style scoped>\n",
       "    .dataframe tbody tr th:only-of-type {\n",
       "        vertical-align: middle;\n",
       "    }\n",
       "\n",
       "    .dataframe tbody tr th {\n",
       "        vertical-align: top;\n",
       "    }\n",
       "\n",
       "    .dataframe thead th {\n",
       "        text-align: right;\n",
       "    }\n",
       "</style>\n",
       "<table border=\"1\" class=\"dataframe\">\n",
       "  <thead>\n",
       "    <tr style=\"text-align: right;\">\n",
       "      <th></th>\n",
       "      <th>user_id</th>\n",
       "      <th>date</th>\n",
       "      <th>steps</th>\n",
       "      <th>calories_burned</th>\n",
       "      <th>distance_km</th>\n",
       "      <th>active_minutes</th>\n",
       "      <th>sleep_hours</th>\n",
       "      <th>heart_rate_avg</th>\n",
       "      <th>workout_type</th>\n",
       "      <th>weather_conditions</th>\n",
       "      <th>location</th>\n",
       "      <th>mood</th>\n",
       "    </tr>\n",
       "  </thead>\n",
       "  <tbody>\n",
       "    <tr>\n",
       "      <th>0</th>\n",
       "      <td>468</td>\n",
       "      <td>2023-01-01</td>\n",
       "      <td>4530</td>\n",
       "      <td>2543.02</td>\n",
       "      <td>16.10</td>\n",
       "      <td>613</td>\n",
       "      <td>1.5</td>\n",
       "      <td>176</td>\n",
       "      <td>Walking</td>\n",
       "      <td>Clear</td>\n",
       "      <td>Park</td>\n",
       "      <td>Tired</td>\n",
       "    </tr>\n",
       "    <tr>\n",
       "      <th>1</th>\n",
       "      <td>879</td>\n",
       "      <td>2023-01-01</td>\n",
       "      <td>11613</td>\n",
       "      <td>1720.76</td>\n",
       "      <td>8.10</td>\n",
       "      <td>352</td>\n",
       "      <td>6.3</td>\n",
       "      <td>128</td>\n",
       "      <td>Cycling</td>\n",
       "      <td>Fog</td>\n",
       "      <td>Park</td>\n",
       "      <td>Happy</td>\n",
       "    </tr>\n",
       "    <tr>\n",
       "      <th>2</th>\n",
       "      <td>152</td>\n",
       "      <td>2023-01-01</td>\n",
       "      <td>27335</td>\n",
       "      <td>1706.35</td>\n",
       "      <td>3.57</td>\n",
       "      <td>236</td>\n",
       "      <td>6.7</td>\n",
       "      <td>134</td>\n",
       "      <td>Yoga</td>\n",
       "      <td>Snow</td>\n",
       "      <td>Park</td>\n",
       "      <td>Neutral</td>\n",
       "    </tr>\n",
       "    <tr>\n",
       "      <th>3</th>\n",
       "      <td>311</td>\n",
       "      <td>2023-01-01</td>\n",
       "      <td>13459</td>\n",
       "      <td>2912.38</td>\n",
       "      <td>6.41</td>\n",
       "      <td>1329</td>\n",
       "      <td>11.6</td>\n",
       "      <td>116</td>\n",
       "      <td>Swimming</td>\n",
       "      <td>Rain</td>\n",
       "      <td>Office</td>\n",
       "      <td>Tired</td>\n",
       "    </tr>\n",
       "    <tr>\n",
       "      <th>4</th>\n",
       "      <td>759</td>\n",
       "      <td>2023-01-01</td>\n",
       "      <td>15378</td>\n",
       "      <td>3344.51</td>\n",
       "      <td>17.88</td>\n",
       "      <td>52</td>\n",
       "      <td>7.4</td>\n",
       "      <td>84</td>\n",
       "      <td>Swimming</td>\n",
       "      <td>Rain</td>\n",
       "      <td>Office</td>\n",
       "      <td>Neutral</td>\n",
       "    </tr>\n",
       "  </tbody>\n",
       "</table>\n",
       "</div>"
      ],
      "text/plain": [
       "   user_id        date  steps  calories_burned  distance_km  active_minutes  \\\n",
       "0      468  2023-01-01   4530          2543.02        16.10             613   \n",
       "1      879  2023-01-01  11613          1720.76         8.10             352   \n",
       "2      152  2023-01-01  27335          1706.35         3.57             236   \n",
       "3      311  2023-01-01  13459          2912.38         6.41            1329   \n",
       "4      759  2023-01-01  15378          3344.51        17.88              52   \n",
       "\n",
       "   sleep_hours  heart_rate_avg workout_type weather_conditions location  \\\n",
       "0          1.5             176      Walking              Clear     Park   \n",
       "1          6.3             128      Cycling                Fog     Park   \n",
       "2          6.7             134         Yoga               Snow     Park   \n",
       "3         11.6             116     Swimming               Rain   Office   \n",
       "4          7.4              84     Swimming               Rain   Office   \n",
       "\n",
       "      mood  \n",
       "0    Tired  \n",
       "1    Happy  \n",
       "2  Neutral  \n",
       "3    Tired  \n",
       "4  Neutral  "
      ]
     },
     "execution_count": 3,
     "metadata": {},
     "output_type": "execute_result"
    }
   ],
   "source": [
    "dataset.head()"
   ]
  },
  {
   "cell_type": "code",
   "execution_count": 4,
   "metadata": {},
   "outputs": [
    {
     "data": {
      "text/html": [
       "<div>\n",
       "<style scoped>\n",
       "    .dataframe tbody tr th:only-of-type {\n",
       "        vertical-align: middle;\n",
       "    }\n",
       "\n",
       "    .dataframe tbody tr th {\n",
       "        vertical-align: top;\n",
       "    }\n",
       "\n",
       "    .dataframe thead th {\n",
       "        text-align: right;\n",
       "    }\n",
       "</style>\n",
       "<table border=\"1\" class=\"dataframe\">\n",
       "  <thead>\n",
       "    <tr style=\"text-align: right;\">\n",
       "      <th></th>\n",
       "      <th>user_id</th>\n",
       "      <th>steps</th>\n",
       "      <th>calories_burned</th>\n",
       "      <th>distance_km</th>\n",
       "      <th>active_minutes</th>\n",
       "      <th>sleep_hours</th>\n",
       "      <th>heart_rate_avg</th>\n",
       "    </tr>\n",
       "  </thead>\n",
       "  <tbody>\n",
       "    <tr>\n",
       "      <th>count</th>\n",
       "      <td>1000000.000000</td>\n",
       "      <td>1000000.000000</td>\n",
       "      <td>1000000.000000</td>\n",
       "      <td>1000000.000000</td>\n",
       "      <td>1000000.000000</td>\n",
       "      <td>1000000.000000</td>\n",
       "      <td>1000000.000000</td>\n",
       "    </tr>\n",
       "    <tr>\n",
       "      <th>mean</th>\n",
       "      <td>499.550302</td>\n",
       "      <td>15005.767061</td>\n",
       "      <td>2750.008148</td>\n",
       "      <td>9.994465</td>\n",
       "      <td>719.418241</td>\n",
       "      <td>6.000228</td>\n",
       "      <td>119.458316</td>\n",
       "    </tr>\n",
       "    <tr>\n",
       "      <th>std</th>\n",
       "      <td>288.166608</td>\n",
       "      <td>8659.195341</td>\n",
       "      <td>721.473950</td>\n",
       "      <td>5.774298</td>\n",
       "      <td>415.894771</td>\n",
       "      <td>3.463977</td>\n",
       "      <td>34.654034</td>\n",
       "    </tr>\n",
       "    <tr>\n",
       "      <th>min</th>\n",
       "      <td>1.000000</td>\n",
       "      <td>0.000000</td>\n",
       "      <td>1500.000000</td>\n",
       "      <td>0.000000</td>\n",
       "      <td>0.000000</td>\n",
       "      <td>0.000000</td>\n",
       "      <td>60.000000</td>\n",
       "    </tr>\n",
       "    <tr>\n",
       "      <th>25%</th>\n",
       "      <td>250.000000</td>\n",
       "      <td>7492.000000</td>\n",
       "      <td>2125.517500</td>\n",
       "      <td>4.990000</td>\n",
       "      <td>359.000000</td>\n",
       "      <td>3.000000</td>\n",
       "      <td>89.000000</td>\n",
       "    </tr>\n",
       "    <tr>\n",
       "      <th>50%</th>\n",
       "      <td>499.000000</td>\n",
       "      <td>15020.000000</td>\n",
       "      <td>2748.310000</td>\n",
       "      <td>9.990000</td>\n",
       "      <td>719.000000</td>\n",
       "      <td>6.000000</td>\n",
       "      <td>119.000000</td>\n",
       "    </tr>\n",
       "    <tr>\n",
       "      <th>75%</th>\n",
       "      <td>749.000000</td>\n",
       "      <td>22507.000000</td>\n",
       "      <td>3375.190000</td>\n",
       "      <td>14.990000</td>\n",
       "      <td>1080.000000</td>\n",
       "      <td>9.000000</td>\n",
       "      <td>149.000000</td>\n",
       "    </tr>\n",
       "    <tr>\n",
       "      <th>max</th>\n",
       "      <td>999.000000</td>\n",
       "      <td>29999.000000</td>\n",
       "      <td>4000.000000</td>\n",
       "      <td>20.000000</td>\n",
       "      <td>1439.000000</td>\n",
       "      <td>12.000000</td>\n",
       "      <td>179.000000</td>\n",
       "    </tr>\n",
       "  </tbody>\n",
       "</table>\n",
       "</div>"
      ],
      "text/plain": [
       "              user_id           steps  calories_burned     distance_km  \\\n",
       "count  1000000.000000  1000000.000000   1000000.000000  1000000.000000   \n",
       "mean       499.550302    15005.767061      2750.008148        9.994465   \n",
       "std        288.166608     8659.195341       721.473950        5.774298   \n",
       "min          1.000000        0.000000      1500.000000        0.000000   \n",
       "25%        250.000000     7492.000000      2125.517500        4.990000   \n",
       "50%        499.000000    15020.000000      2748.310000        9.990000   \n",
       "75%        749.000000    22507.000000      3375.190000       14.990000   \n",
       "max        999.000000    29999.000000      4000.000000       20.000000   \n",
       "\n",
       "       active_minutes     sleep_hours  heart_rate_avg  \n",
       "count  1000000.000000  1000000.000000  1000000.000000  \n",
       "mean       719.418241        6.000228      119.458316  \n",
       "std        415.894771        3.463977       34.654034  \n",
       "min          0.000000        0.000000       60.000000  \n",
       "25%        359.000000        3.000000       89.000000  \n",
       "50%        719.000000        6.000000      119.000000  \n",
       "75%       1080.000000        9.000000      149.000000  \n",
       "max       1439.000000       12.000000      179.000000  "
      ]
     },
     "execution_count": 4,
     "metadata": {},
     "output_type": "execute_result"
    }
   ],
   "source": [
    "dataset.describe()"
   ]
  },
  {
   "cell_type": "code",
   "execution_count": 5,
   "metadata": {},
   "outputs": [
    {
     "name": "stdout",
     "output_type": "stream",
     "text": [
      "<class 'pandas.core.frame.DataFrame'>\n",
      "RangeIndex: 1000000 entries, 0 to 999999\n",
      "Data columns (total 12 columns):\n",
      " #   Column              Non-Null Count    Dtype  \n",
      "---  ------              --------------    -----  \n",
      " 0   user_id             1000000 non-null  int64  \n",
      " 1   date                1000000 non-null  object \n",
      " 2   steps               1000000 non-null  int64  \n",
      " 3   calories_burned     1000000 non-null  float64\n",
      " 4   distance_km         1000000 non-null  float64\n",
      " 5   active_minutes      1000000 non-null  int64  \n",
      " 6   sleep_hours         1000000 non-null  float64\n",
      " 7   heart_rate_avg      1000000 non-null  int64  \n",
      " 8   workout_type        856880 non-null   object \n",
      " 9   weather_conditions  1000000 non-null  object \n",
      " 10  location            1000000 non-null  object \n",
      " 11  mood                1000000 non-null  object \n",
      "dtypes: float64(3), int64(4), object(5)\n",
      "memory usage: 91.6+ MB\n"
     ]
    }
   ],
   "source": [
    "dataset.info()"
   ]
  },
  {
   "cell_type": "code",
   "execution_count": 6,
   "metadata": {},
   "outputs": [
    {
     "data": {
      "text/plain": [
       "(1000000, 12)"
      ]
     },
     "execution_count": 6,
     "metadata": {},
     "output_type": "execute_result"
    }
   ],
   "source": [
    "dataset.shape"
   ]
  },
  {
   "cell_type": "code",
   "execution_count": 7,
   "metadata": {},
   "outputs": [
    {
     "data": {
      "text/plain": [
       "user_id                    0\n",
       "date                       0\n",
       "steps                      0\n",
       "calories_burned            0\n",
       "distance_km                0\n",
       "active_minutes             0\n",
       "sleep_hours                0\n",
       "heart_rate_avg             0\n",
       "workout_type          143120\n",
       "weather_conditions         0\n",
       "location                   0\n",
       "mood                       0\n",
       "dtype: int64"
      ]
     },
     "execution_count": 7,
     "metadata": {},
     "output_type": "execute_result"
    }
   ],
   "source": [
    "dataset.isnull().sum()"
   ]
  },
  {
   "cell_type": "code",
   "execution_count": null,
   "metadata": {},
   "outputs": [],
   "source": [
    "dataset['user_id']"
   ]
  }
 ],
 "metadata": {
  "kernelspec": {
   "display_name": "Python 3",
   "language": "python",
   "name": "python3"
  },
  "language_info": {
   "codemirror_mode": {
    "name": "ipython",
    "version": 3
   },
   "file_extension": ".py",
   "mimetype": "text/x-python",
   "name": "python",
   "nbconvert_exporter": "python",
   "pygments_lexer": "ipython3",
   "version": "3.12.4"
  }
 },
 "nbformat": 4,
 "nbformat_minor": 2
}
